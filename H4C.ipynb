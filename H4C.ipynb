{
 "cells": [
  {
   "cell_type": "code",
   "execution_count": 1,
   "metadata": {},
   "outputs": [
    {
     "name": "stdout",
     "output_type": "stream",
     "text": [
      "================================================================\n",
      "                    MultiResolution Analysis                    \n",
      "----------------------------------------------------------------\n",
      " polynomial order      : 7\n",
      " polynomial type       : Interpolating\n",
      "----------------------------------------------------------------\n",
      " total boxes           : 8\n",
      " boxes                 : [          2           2           2 ]\n",
      " unit lengths          : [  20.000000   20.000000   20.000000 ]\n",
      " scaling factor        : [   1.250000    1.250000    1.250000 ]\n",
      " lower bounds          : [ -20.000000  -20.000000  -20.000000 ]\n",
      " upper bounds          : [  20.000000   20.000000   20.000000 ]\n",
      " total length          : [  40.000000   40.000000   40.000000 ]\n",
      "================================================================\n",
      "\n",
      "Help on class ScalingProjector in module vampyr._vampyr.vampyr3d:\n",
      "\n",
      "class ScalingProjector(pybind11_builtins.pybind11_object)\n",
      " |  Method resolution order:\n",
      " |      ScalingProjector\n",
      " |      pybind11_builtins.pybind11_object\n",
      " |      builtins.object\n",
      " |  \n",
      " |  Methods defined here:\n",
      " |  \n",
      " |  __call__(...)\n",
      " |      __call__(*args, **kwargs)\n",
      " |      Overloaded function.\n",
      " |      \n",
      " |      1. __call__(self: vampyr._vampyr.vampyr3d.ScalingProjector, func: mrcpp::RepresentableFunction<3>) -> mrcpp::FunctionTree<3>\n",
      " |      \n",
      " |      2. __call__(self: vampyr._vampyr.vampyr3d.ScalingProjector, func: Callable[[List[float[3]]], float]) -> mrcpp::FunctionTree<3>\n",
      " |  \n",
      " |  __init__(...)\n",
      " |      __init__(*args, **kwargs)\n",
      " |      Overloaded function.\n",
      " |      \n",
      " |      1. __init__(self: vampyr._vampyr.vampyr3d.ScalingProjector, mra: mrcpp::MultiResolutionAnalysis<3>, prec: float) -> None\n",
      " |      \n",
      " |      2. __init__(self: vampyr._vampyr.vampyr3d.ScalingProjector, mra: mrcpp::MultiResolutionAnalysis<3>, scale: int) -> None\n",
      " |  \n",
      " |  ----------------------------------------------------------------------\n",
      " |  Static methods inherited from pybind11_builtins.pybind11_object:\n",
      " |  \n",
      " |  __new__(*args, **kwargs) from pybind11_builtins.pybind11_type\n",
      " |      Create and return a new object.  See help(type) for accurate signature.\n",
      "\n"
     ]
    }
   ],
   "source": [
    "from vampyr import vampyr3d as vp\n",
    "import numpy as np\n",
    "\n",
    "import matplotlib.pyplot as plt\n",
    "import matplotlib.gridspec as gridspec\n",
    "\n",
    "import scipy.integrate as integrate\n",
    "from scipy.special import legendre, laguerre, erf, gamma\n",
    "from scipy.special import gamma\n",
    "from scipy.constants import hbar\n",
    "\n",
    "mra = vp.MultiResolutionAnalysis(box=[-20,20], order=7)\n",
    "prec = 1.0e-4\n",
    "\n",
    "print(mra)\n",
    "help(vp.ScalingProjector)"
   ]
  },
  {
   "cell_type": "code",
   "execution_count": 2,
   "metadata": {},
   "outputs": [
    {
     "name": "stdout",
     "output_type": "stream",
     "text": [
      "0.6613878614971826 -5583.9425981964805\n"
     ]
    },
    {
     "data": {
      "image/png": "[encoded data removed]",
      "text/plain": [
       "<Figure size 432x288 with 1 Axes>"
      ]
     },
     "metadata": {
      "needs_background": "light"
     },
     "output_type": "display_data"
    }
   ],
   "source": [
    "# H atom (almost) according to wikipedia\n",
    "# Normalization not considered\n",
    "# Exponential coeffcient C=1 (wikipedia coeff is not compatible with eigensolution)\n",
    "# Limited to ground state for now (some formulas are however more generic)\n",
    "# So far the best general description for the 4-c H atom was in the Bethe&Salpeter book\n",
    "\n",
    "c=137.035999\n",
    "alpha = 1.0/c\n",
    "k = -1\n",
    "l = 0\n",
    "n = 1\n",
    "m = 0.5\n",
    "Z = 92\n",
    "\n",
    "def compute_gamma(k,Z,alpha):\n",
    "    return np.sqrt(k**2 - Z**2 * alpha**2)\n",
    "\n",
    "def compute_dirac_energy(n,Z,k,alpha):\n",
    "    gamma_factor = compute_gamma(k,Z,alpha)\n",
    "    tmp1 = n - np.abs(k) + gamma_factor\n",
    "    tmp2 = Z * alpha / tmp1\n",
    "    tmp3 = 1 + tmp2**2\n",
    "    return c**2 / np.sqrt(tmp3)\n",
    "#\n",
    "# Approx expression\n",
    "#\n",
    "#def compute_dirac_energy(n,Z,k,c):\n",
    "#    tmp1 = 1.0/np.abs(k) - 3.0/(4*n)\n",
    "#    tmp2 = 1 + tmp1 * Z**2 / (n * c**2)\n",
    "#    return c**2 - tmp2 * Z**2 / (2*n**2)\n",
    "\n",
    "\n",
    "def compute_norm_const(n, gamma_factor):\n",
    "# THIS NORMALIZATION CONSTANT IS FROM WIKIPEDIA BUT IT DOES NOT AGREE WITH Bethe&Salpeter\n",
    "    tmp1 = 2 * n * (n + gamma_factor)\n",
    "    tmp2 = 1 / (gamma_factor * gamma(2 * gamma_factor))\n",
    "    return np.sqrt(tmp2/tmp1)\n",
    "\n",
    "def one_s_alpha(x,Z,alpha,gamma_factor):\n",
    "    r = np.sqrt(x[0]**2 + x[1]**2 + x[2]**2)\n",
    "    tmp1 = 1.0 + gamma_factor\n",
    "    tmp4 = Z * alpha\n",
    "    u = x/r\n",
    "    lar =   tmp1\n",
    "    sai =   tmp4 * u[2]\n",
    "    sbr = - tmp4 * u[1]\n",
    "    sbi =   tmp4 * u[0]\n",
    "    return lar, 0, 0, 0, 0, sai, sbr, sbi\n",
    "\n",
    "def one_s_alpha_comp(x,Z,alpha,gamma_factor,norm_const,comp):\n",
    "    r = np.sqrt(x[0]**2 + x[1]**2 + x[2]**2)\n",
    "    tmp2 = r ** (gamma_factor - 1)\n",
    "    tmp3 = np.exp(-r)\n",
    "    values = one_s_alpha(x,Z,alpha,gamma_factor)\n",
    "    return values[comp] * tmp2 * tmp3 * norm_const / np.sqrt(2*np.pi)\n",
    "                \n",
    "gamma_factor = compute_gamma(k,Z,alpha)\n",
    "norm_const = compute_norm_const(n, gamma_factor)\n",
    "energy = compute_dirac_energy(n,Z,k,alpha)\n",
    "Ezora = 2*(energy-c**2)*c**2/(energy+c**2)\n",
    "print(norm_const,Ezora)\n",
    "\n",
    "x_plt = np.linspace(-1.0, 1.0, 1000)\n",
    "y_plt = [one_s_alpha_comp([x,0.0,0.0],Z,alpha,gamma_factor,norm_const,7) for x in x_plt]\n",
    "_ = plt.plot(x_plt, y_plt)"
   ]
  },
  {
   "cell_type": "code",
   "execution_count": 3,
   "metadata": {},
   "outputs": [
    {
     "data": {
      "text/plain": [
       "[<matplotlib.lines.Line2D at 0x7fb4b01c1c50>]"
      ]
     },
     "execution_count": 3,
     "metadata": {},
     "output_type": "execute_result"
    },
    {
     "data": {
      "image/png": "[encoded data removed]",
      "text/plain": [
       "<Figure size 432x288 with 1 Axes>"
      ]
     },
     "metadata": {
      "needs_background": "light"
     },
     "output_type": "display_data"
    }
   ],
   "source": [
    "def u(r):\n",
    "    u = erf(r)/r + (1/(3*np.sqrt(np.pi)))*(np.exp(-(r**2)) + 16*np.exp(-4*r**2))\n",
    "    #erf(r) is an error function that is supposed to stop the potential well from going to inf.\n",
    "    #if i remember correctly\n",
    "    return u\n",
    "\n",
    "def V(x):\n",
    "    r = np.sqrt(x[0]**2 + x[1]**2 + x[2]**2)\n",
    "#    c = 0.0435\n",
    "    c = 0.000435 # ten times tighter nuclear potential\n",
    "    f_bar = u(r/c)/c\n",
    "    return f_bar\n",
    "\n",
    "def kappa(x):\n",
    "    temp = V(x) / (2 * c**2)\n",
    "    return 1.0/(1-temp)\n",
    "\n",
    "def one_m_kappa(x):\n",
    "    temp = (2 * c**2) / V(x)\n",
    "    return 1.0/(1-temp)\n",
    "\n",
    "x_plt = np.linspace(-0.01, 0.01, 1000)\n",
    "y1_plt = [kappa([x, 0.0, 0.0])-1 for x in x_plt]\n",
    "y2_plt = [one_m_kappa([x, 0.0, 0.0]) for x in x_plt]\n",
    "plt.plot(x_plt, y1_plt)\n",
    "plt.plot(x_plt, y2_plt)"
   ]
  },
  {
   "cell_type": "code",
   "execution_count": null,
   "metadata": {},
   "outputs": [],
   "source": [
    "Peps = vp.ScalingProjector(mra,prec)\n",
    "f = lambda x:V([x[0]-origin[0],x[1]-origin[1],x[2]-origin[2]])\n",
    "V_tree = Peps(f)"
   ]
  },
  {
   "cell_type": "code",
   "execution_count": 5,
   "metadata": {},
   "outputs": [
    {
     "name": "stdout",
     "output_type": "stream",
     "text": [
      "Help on class ScalingProjector in module vampyr._vampyr.vampyr3d:\n",
      "\n",
      "class ScalingProjector(pybind11_builtins.pybind11_object)\n",
      " |  Method resolution order:\n",
      " |      ScalingProjector\n",
      " |      pybind11_builtins.pybind11_object\n",
      " |      builtins.object\n",
      " |  \n",
      " |  Methods defined here:\n",
      " |  \n",
      " |  __call__(...)\n",
      " |      __call__(*args, **kwargs)\n",
      " |      Overloaded function.\n",
      " |      \n",
      " |      1. __call__(self: vampyr._vampyr.vampyr3d.ScalingProjector, func: mrcpp::RepresentableFunction<3>) -> mrcpp::FunctionTree<3>\n",
      " |      \n",
      " |      2. __call__(self: vampyr._vampyr.vampyr3d.ScalingProjector, func: Callable[[List[float[3]]], float]) -> mrcpp::FunctionTree<3>\n",
      " |  \n",
      " |  __init__(...)\n",
      " |      __init__(*args, **kwargs)\n",
      " |      Overloaded function.\n",
      " |      \n",
      " |      1. __init__(self: vampyr._vampyr.vampyr3d.ScalingProjector, mra: mrcpp::MultiResolutionAnalysis<3>, prec: float) -> None\n",
      " |      \n",
      " |      2. __init__(self: vampyr._vampyr.vampyr3d.ScalingProjector, mra: mrcpp::MultiResolutionAnalysis<3>, scale: int) -> None\n",
      " |  \n",
      " |  ----------------------------------------------------------------------\n",
      " |  Static methods inherited from pybind11_builtins.pybind11_object:\n",
      " |  \n",
      " |  __new__(*args, **kwargs) from pybind11_builtins.pybind11_type\n",
      " |      Create and return a new object.  See help(type) for accurate signature.\n",
      "\n"
     ]
    }
   ],
   "source": [
    "help(vp.ScalingProjector)"
   ]
  },
  {
   "cell_type": "code",
   "execution_count": null,
   "metadata": {},
   "outputs": [],
   "source": []
  }
 ],
 "metadata": {
  "kernelspec": {
   "display_name": "Python 3",
   "language": "python",
   "name": "python3"
  },
  "language_info": {
   "codemirror_mode": {
    "name": "ipython",
    "version": 3
   },
   "file_extension": ".py",
   "mimetype": "text/x-python",
   "name": "python",
   "nbconvert_exporter": "python",
   "pygments_lexer": "ipython3",
   "version": "3.7.4"
  }
 },
 "nbformat": 4,
 "nbformat_minor": 4
}
