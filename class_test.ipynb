{
 "cells": [
  {
   "cell_type": "code",
   "execution_count": 1,
   "id": "726ffb4b-7a48-45d4-91c5-c935d284e47c",
   "metadata": {},
   "outputs": [
    {
     "name": "stdout",
     "output_type": "stream",
     "text": [
      "init test orbital\n",
      "\n",
      "*FunctionTree: nn\n",
      "  genNodes: 0\n",
      "  square norm: 0.933162\n",
      "  root scale: -4\n",
      "  order: 7\n",
      "  nodes: 264\n",
      "  endNodes: 232\n",
      "  nodes per scale: \n",
      "    scale=-4  nodes=8\n",
      "    scale=-3  nodes=64\n",
      "    scale=-2  nodes=64\n",
      "    scale=-1  nodes=64\n",
      "    scale=0  nodes=64\n",
      " \n",
      "*FunctionTree: nn\n",
      "  genNodes: 0\n",
      "  square norm: 0.933162\n",
      "  root scale: -4\n",
      "  order: 7\n",
      "  nodes: 264\n",
      "  endNodes: 232\n",
      "  nodes per scale: \n",
      "    scale=-4  nodes=8\n",
      "    scale=-3  nodes=64\n",
      "    scale=-2  nodes=64\n",
      "    scale=-1  nodes=64\n",
      "    scale=0  nodes=64\n",
      " \n",
      "*FunctionTree: nn\n",
      "  genNodes: 0\n",
      "  square norm: 0.933162\n",
      "  root scale: -4\n",
      "  order: 7\n",
      "  nodes: 264\n",
      "  endNodes: 232\n",
      "  nodes per scale: \n",
      "    scale=-4  nodes=8\n",
      "    scale=-3  nodes=64\n",
      "    scale=-2  nodes=64\n",
      "    scale=-1  nodes=64\n",
      "    scale=0  nodes=64\n",
      "\n"
     ]
    },
    {
     "data": {
      "text/plain": [
       "<vampyr._vampyr.vampyr3d.FunctionTree at 0x112e301b0>"
      ]
     },
     "execution_count": 1,
     "metadata": {},
     "output_type": "execute_result"
    }
   ],
   "source": [
    "from vampyr import vampyr3d as vp\n",
    "from orbital4c import orbital as orb\n",
    "import numpy as np\n",
    "import importlib\n",
    "importlib.reload(orb)\n",
    "from scipy.special import legendre, laguerre, erf, gamma\n",
    "from scipy.special import gamma\n",
    "from scipy.constants import hbar\n",
    "\n",
    "\n",
    "c = 137   # NOT A GOOD WAY. MUST BE FIXED!!!\n",
    "alpha = 1/c\n",
    "k = -1\n",
    "l = 0\n",
    "n = 1\n",
    "m = 0.5\n",
    "Z = 1\n",
    "\n",
    "mra = vp.MultiResolutionAnalysis(box=[-20,20], order=7)\n",
    "prec = 1.0e-4\n",
    "origin = [0.1, 0.2, 0.3]  # origin moved to avoid placing the nuclar charge on a node\n",
    "\n",
    "print(\"init test orbital\")\n",
    "testorb = orb.orbital4c(\"X\",mra)\n",
    "\n",
    "a_coeff = 3.0\n",
    "b_coeff = np.sqrt(a_coeff/np.pi)**3\n",
    "gauss = vp.GaussFunc(b_coeff, a_coeff, origin)\n",
    "gauss_tree = vp.FunctionTree(mra)\n",
    "vp.advanced.build_grid(out=gauss_tree, inp=gauss)\n",
    "vp.advanced.project(prec=prec, out=gauss_tree, inp=gauss)\n",
    "gauss_tree.normalize()\n",
    "\n",
    "testorb.init_large_components(Lar = gauss_tree, Lai = gauss_tree)\n",
    "testorb.init_small_components(prec/10)\n",
    "testorb.rescale(2)\n",
    "testorb.normalize()\n",
    "testorb.gradient()\n",
    "testorb.density(prec)"
   ]
  },
  {
   "cell_type": "code",
   "execution_count": 2,
   "id": "90390a68-c06d-47e9-814f-dee0c6872863",
   "metadata": {},
   "outputs": [
    {
     "name": "stdout",
     "output_type": "stream",
     "text": [
      "\n",
      "*FunctionTree: nn\n",
      "  genNodes: 0\n",
      "  square norm: 0.933162\n",
      "  root scale: -4\n",
      "  order: 7\n",
      "  nodes: 264\n",
      "  endNodes: 232\n",
      "  nodes per scale: \n",
      "    scale=-4  nodes=8\n",
      "    scale=-3  nodes=64\n",
      "    scale=-2  nodes=64\n",
      "    scale=-1  nodes=64\n",
      "    scale=0  nodes=64\n",
      " \n",
      "*FunctionTree: nn\n",
      "  genNodes: 0\n",
      "  square norm: 0.933162\n",
      "  root scale: -4\n",
      "  order: 7\n",
      "  nodes: 264\n",
      "  endNodes: 232\n",
      "  nodes per scale: \n",
      "    scale=-4  nodes=8\n",
      "    scale=-3  nodes=64\n",
      "    scale=-2  nodes=64\n",
      "    scale=-1  nodes=64\n",
      "    scale=0  nodes=64\n",
      " \n",
      "*FunctionTree: nn\n",
      "  genNodes: 0\n",
      "  square norm: 0.933162\n",
      "  root scale: -4\n",
      "  order: 7\n",
      "  nodes: 264\n",
      "  endNodes: 232\n",
      "  nodes per scale: \n",
      "    scale=-4  nodes=8\n",
      "    scale=-3  nodes=64\n",
      "    scale=-2  nodes=64\n",
      "    scale=-1  nodes=64\n",
      "    scale=0  nodes=64\n",
      "\n",
      "0.5162385294183164\n",
      "0.5162289047559492\n"
     ]
    }
   ],
   "source": [
    "importlib.reload(orb)\n",
    "spinor_H = orb.orbital4c(\"hydrogen\",mra)\n",
    "spinor_H.init_large_components(Lar = gauss_tree)\n",
    "spinor_H.init_small_components(prec/10)\n",
    "spinor_H.normalize()\n",
    "\n",
    "print(gauss_tree([0.5,0.5,0.5]))\n",
    "print(spinor_H[\"Lar\"]([0.5,0.5,0.5]))"
   ]
  },
  {
   "cell_type": "code",
   "execution_count": 8,
   "id": "a941c4ef-392a-45b4-a988-e37ba856298e",
   "metadata": {},
   "outputs": [
    {
     "name": "stdout",
     "output_type": "stream",
     "text": [
      "1.8569533817705182\n"
     ]
    }
   ],
   "source": [
    "def u(r):\n",
    "    u = erf(r)/r + (1/(3*np.sqrt(np.pi)))*(np.exp(-(r**2)) + 16*np.exp(-4*r**2))\n",
    "    #erf(r) is an error function that is supposed to stop the potential well from going to inf.\n",
    "    #if i remember correctly\n",
    "    return u\n",
    "\n",
    "def V(x):\n",
    "    r = np.sqrt(x[0]**2 + x[1]**2 + x[2]**2)\n",
    "    c = 0.0435\n",
    "#    c = 0.000435 # ten times tighter nuclear potential\n",
    "    f_bar = u(r/c)/c\n",
    "    return f_bar\n",
    "\n",
    "Peps = vp.ScalingProjector(mra,prec)\n",
    "f = lambda x: V([x[0]-origin[0],x[1]-origin[1],x[2]-origin[2]])\n",
    "\n",
    "print(f([0.5,0.5,0.5]))\n",
    "V_tree = Z*Peps(f)"
   ]
  },
  {
   "cell_type": "code",
   "execution_count": 9,
   "id": "587eff86-f970-4015-98e9-c257c31823ee",
   "metadata": {},
   "outputs": [
    {
     "name": "stdout",
     "output_type": "stream",
     "text": [
      "Energy 18768.49983881293 -7.131523169233637e-11\n",
      "mu 1.0001545109183014\n",
      "Error 2.94085022890823e-06 0.0\n",
      "Energy 18768.49993458509\n"
     ]
    }
   ],
   "source": [
    "importlib.reload(orb)\n",
    "orbital_error = 1\n",
    "while orbital_error > prec:\n",
    "#for i in range(1):    \n",
    "    hd_psi = orb.apply_dirac_hamiltonian(spinor_H, prec)\n",
    "    v_psi = orb.apply_potential(V_tree, spinor_H, prec)\n",
    "    add_psi = orb.add_orbitals(1.0, hd_psi, 1.0, v_psi, prec)\n",
    "    energy, imag = orb.scalar_product(spinor_H, add_psi)\n",
    "    print('Energy',energy,imag)\n",
    "    tmp = orb.apply_helmholtz(v_psi, energy, c, prec)\n",
    "    new_orbital = orb.apply_dirac_hamiltonian(tmp, prec, energy)\n",
    "    new_orbital.normalize()\n",
    "    delta_psi = orb.add_orbitals(1.0, new_orbital, -1.0, spinor_H, prec)\n",
    "    orbital_error, imag = orb.scalar_product(delta_psi, delta_psi)\n",
    "    print('Error',orbital_error, imag)\n",
    "    spinor_H = new_orbital\n",
    "    \n",
    "hd_psi = orb.apply_dirac_hamiltonian(spinor_H, prec)\n",
    "v_psi = orb.apply_potential(V_tree, spinor_H, prec)\n",
    "add_psi = orb.add_orbitals(1.0, hd_psi, 1.0, v_psi, prec)\n",
    "energy, imag = orb.scalar_product(spinor_H, add_psi)\n",
    "print('Energy',energy)"
   ]
  },
  {
   "cell_type": "code",
   "execution_count": 5,
   "id": "23385049-d672-4c38-8232-11a4ad71e777",
   "metadata": {},
   "outputs": [
    {
     "name": "stdout",
     "output_type": "stream",
     "text": [
      "Now projecting component  Lar 0 0.0072992700729927005 0.9999733599733552 0.5000156216290343\n",
      "Now projecting component  Lai 1 0.0072992700729927005 0.9999733599733552 0.5000156216290343\n",
      "Now projecting component  Lbr 2 0.0072992700729927005 0.9999733599733552 0.5000156216290343\n",
      "Now projecting component  Lbi 3 0.0072992700729927005 0.9999733599733552 0.5000156216290343\n",
      "Now projecting component  Sar 4 0.0072992700729927005 0.9999733599733552 0.5000156216290343\n",
      "Now projecting component  Sai 5 0.0072992700729927005 0.9999733599733552 0.5000156216290343\n",
      "Now projecting component  Sbr 6 0.0072992700729927005 0.9999733599733552 0.5000156216290343\n",
      "Now projecting component  Sbi 7 0.0072992700729927005 0.9999733599733552 0.5000156216290343\n"
     ]
    },
    {
     "data": {
      "text/plain": [
       "<orbital4c.orbital.orbital4c at 0x1b4e73460>"
      ]
     },
     "execution_count": 5,
     "metadata": {},
     "output_type": "execute_result"
    }
   ],
   "source": [
    "importlib.reload(orb)\n",
    "exact_orbital = orb.orbital4c(\"exact_1s\",mra)\n",
    "orb.init_1s_orbital(exact_orbital,k,Z,n,alpha,origin,prec)"
   ]
  },
  {
   "cell_type": "code",
   "execution_count": 6,
   "id": "9053b528-5cff-4be1-af3b-519479ce9a29",
   "metadata": {},
   "outputs": [],
   "source": [
    "exact_orbital.normalize()"
   ]
  },
  {
   "cell_type": "code",
   "execution_count": 10,
   "id": "8ebb6897-3eff-4db6-a1fe-d46fa08b767c",
   "metadata": {},
   "outputs": [
    {
     "data": {
      "text/plain": [
       "<matplotlib.legend.Legend at 0x1b6d52410>"
      ]
     },
     "execution_count": 10,
     "metadata": {},
     "output_type": "execute_result"
    },
    {
     "data": {
      "image/png": "[encoded data removed]",
      "text/plain": [
       "<Figure size 720x720 with 4 Axes>"
      ]
     },
     "metadata": {
      "needs_background": "light"
     },
     "output_type": "display_data"
    }
   ],
   "source": [
    "import matplotlib.pyplot as plt\n",
    "import matplotlib.gridspec as gridspec\n",
    "fig, axs = plt.subplots(2,2,figsize=(10, 10))\n",
    "#axs[0,0].set_box_aspect(1)\n",
    "#axs[0,1].set_box_aspect(1)\n",
    "#axs[1,0].set_box_aspect(1)\n",
    "#axs[1,1].set_box_aspect(1)\n",
    "x_plt = np.linspace(-1, 1, 1000)\n",
    "orbital_plt = {}\n",
    "exact_plt = {}\n",
    "out_plt = {}\n",
    "orb_plt = {}\n",
    "add_psi_plt = {}\n",
    "exact_plt['Lar']   = [exact_orbital['Lar'](   [x+origin[0],   origin[1],   origin[2]]) for x in x_plt]\n",
    "exact_plt['Sai']   = [exact_orbital['Sai'](   [  origin[0],   origin[1], x+origin[2]]) for x in x_plt]\n",
    "exact_plt['Sbr']   = [exact_orbital['Sbr'](   [  origin[0], x+origin[1],   origin[2]]) for x in x_plt]\n",
    "exact_plt['Sbi']   = [exact_orbital['Sbi'](   [x+origin[0],   origin[1],   origin[2]]) for x in x_plt]\n",
    "orb_plt['Lar']     = [spinor_H['Lar'](         [x+origin[0],   origin[1],   origin[2]]) for x in x_plt]\n",
    "orb_plt['Sai']     = [spinor_H['Sai'](         [  origin[0],   origin[1], x+origin[2]]) for x in x_plt]\n",
    "orb_plt['Sbr']     = [spinor_H['Sbr'](         [  origin[0], x+origin[1],   origin[2]]) for x in x_plt]\n",
    "orb_plt['Sbi']     = [spinor_H['Sbi'](         [x+origin[0],   origin[1],   origin[2]]) for x in x_plt]\n",
    "#plt.plot(x_plt, [add_psi_plt['Lar'][i]/orbital_plt['Lar'][i] for i in range(1000)])\n",
    "#axs[0,0].plot(x_plt, add_psi_plt['Lar'],label='add_psi')\n",
    "#axs[0,0].plot(x_plt, orbital_plt['Lar'],label='gaussian')\n",
    "axs[0,0].plot(x_plt, exact_plt['Lar'],label='exact')\n",
    "#axs[0,0].plot(x_plt, out_plt['Lar'],label='out (1 iter)')\n",
    "axs[0,0].plot(x_plt, orb_plt['Lar'],label='out (err 10^-4)')\n",
    "axs[0,0].legend()\n",
    "#axs[0,1].plot(x_plt, add_psi_plt['Sai'],label='add_psi')\n",
    "#axs[0,1].plot(x_plt, orbital_plt['Sai'],label='gaussian')\n",
    "axs[0,1].plot(x_plt, exact_plt['Sai'],label='exact')\n",
    "#axs[0,1].plot(x_plt, out_plt['Sai'],label='out (1 iter)')\n",
    "axs[0,1].plot(x_plt, orb_plt['Sai'],label='out (err 10^-4)')\n",
    "axs[0,1].legend()\n",
    "#axs[1,0].plot(x_plt, add_psi_plt['Sbr'],label='add_psi')\n",
    "#axs[1,0].plot(x_plt, orbital_plt['Sbr'],label='gaussian')\n",
    "axs[1,0].plot(x_plt, exact_plt['Sbr'],label='exact')\n",
    "#axs[1,0].plot(x_plt, out_plt['Sbr'],label='out (1 iter)')\n",
    "axs[1,0].plot(x_plt, orb_plt['Sbr'],label='out (err 10^-4)')\n",
    "axs[1,0].legend()\n",
    "#axs[1,1].plot(x_plt, add_psi_plt['Sbi'],label='add_psi')\n",
    "#axs[1,1].plot(x_plt, orbital_plt['Sbi'],label='gaussian')\n",
    "axs[1,1].plot(x_plt, exact_plt['Sbi'],label='exact')\n",
    "#axs[1,1].plot(x_plt, out_plt['Sbi'],label='out (1 iter)')\n",
    "axs[1,1].plot(x_plt, orb_plt['Sbi'],label='out (err 10^-4)')\n",
    "axs[1,1].legend()"
   ]
  }
 ],
 "metadata": {
  "kernelspec": {
   "display_name": "Python 3 (ipykernel)",
   "language": "python",
   "name": "python3"
  },
  "language_info": {
   "codemirror_mode": {
    "name": "ipython",
    "version": 3
   },
   "file_extension": ".py",
   "mimetype": "text/x-python",
   "name": "python",
   "nbconvert_exporter": "python",
   "pygments_lexer": "ipython3",
   "version": "3.10.2"
  }
 },
 "nbformat": 4,
 "nbformat_minor": 5
}
