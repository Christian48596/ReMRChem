{
 "cells": [
  {
   "cell_type": "code",
   "execution_count": null,
   "id": "726ffb4b-7a48-45d4-91c5-c935d284e47c",
   "metadata": {},
   "outputs": [],
   "source": [
    "from vampyr import vampyr3d as vp\n",
    "from orbital4c import orbital as orb\n",
    "import numpy as np\n",
    "\n",
    "c = 137   # NOT A GOOD WAY. MUST BE FIXED!!!\n",
    "\n",
    "mra = vp.MultiResolutionAnalysis(box=[-20,20], order=7)\n",
    "prec = 1.0e-4\n",
    "origin = [0.1, 0.2, 0.3]  # origin moved to avoid placing the nuclar charge on a node\n",
    "\n",
    "print(\"init test orbital\")\n",
    "testorb = orb.orbital4c(\"X\",mra)\n",
    "\n",
    "a_coeff = 3.0\n",
    "b_coeff = np.sqrt(a_coeff/np.pi)**3\n",
    "gauss = vp.GaussFunc(b_coeff, a_coeff, origin)\n",
    "gauss_tree = vp.FunctionTree(mra)\n",
    "vp.advanced.build_grid(out=gauss_tree, inp=gauss)\n",
    "vp.advanced.project(prec=prec, out=gauss_tree, inp=gauss)\n",
    "gauss_tree.normalize()\n",
    "\n",
    "testorb.init_large_components(Lar = gauss_tree, Lai = gauss_tree)\n",
    "testorb.init_small_components(prec/10)\n",
    "testorb.rescale(2)\n",
    "testorb.normalize()\n",
    "testorb.gradient()\n",
    "testorb.density(prec)"
   ]
  }
 ],
 "metadata": {
  "kernelspec": {
   "display_name": "Python 3 (ipykernel)",
   "language": "python",
   "name": "python3"
  },
  "language_info": {
   "codemirror_mode": {
    "name": "ipython",
    "version": 3
   },
   "file_extension": ".py",
   "mimetype": "text/x-python",
   "name": "python",
   "nbconvert_exporter": "python",
   "pygments_lexer": "ipython3",
   "version": "3.10.2"
  }
 },
 "nbformat": 4,
 "nbformat_minor": 5
}
